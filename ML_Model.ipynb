{
  "nbformat": 4,
  "nbformat_minor": 0,
  "metadata": {
    "colab": {
      "provenance": [],
      "authorship_tag": "ABX9TyP/Rm1EuIZv/m9xRtHdRyl7",
      "include_colab_link": true
    },
    "kernelspec": {
      "name": "python3",
      "display_name": "Python 3"
    },
    "language_info": {
      "name": "python"
    }
  },
  "cells": [
    {
      "cell_type": "markdown",
      "metadata": {
        "id": "view-in-github",
        "colab_type": "text"
      },
      "source": [
        "<a href=\"https://colab.research.google.com/github/romit-s/reunion/blob/master/ML_Model.ipynb\" target=\"_parent\"><img src=\"https://colab.research.google.com/assets/colab-badge.svg\" alt=\"Open In Colab\"/></a>"
      ]
    },
    {
      "cell_type": "code",
      "execution_count": null,
      "metadata": {
        "id": "fgbtRPvWoaOd"
      },
      "outputs": [],
      "source": [
        "import pandas as pd\n",
        "import numpy as np\n",
        "df1 = pd.read_csv(\"loan.csv\")\n"
      ]
    },
    {
      "cell_type": "code",
      "source": [
        "df2 = pd.read_csv(\"applicant.csv\")\n",
        "df2.head()\n",
        "'''Converting Data to int'''\n",
        "for i in range(len(df2)):\n",
        "  try:\n",
        "    df2.at[i,'Has_been_employed_for_at_least']=int(df2.at[i,'Has_been_employed_for_at_least'].split(\" \")[0])\n",
        "  except Exception:\n",
        "    #substituting null value to mode of the dataframe column\n",
        "    df2.at[i,'Has_been_employed_for_at_least']=1\n",
        "  try:\n",
        "    df2.at[i,'Has_been_employed_for_at_most']=int(df2.at[i,'Has_been_employed_for_at_most'].split(\" \")[0])\n",
        "  except Exception:\n",
        "    df2.at[i,'Has_been_employed_for_at_most']=4\n",
        "    \n",
        "df2.head()"
      ],
      "metadata": {
        "colab": {
          "base_uri": "https://localhost:8080/",
          "height": 374
        },
        "id": "5XThgJNToucY",
        "outputId": "4c2c25f4-50e9-45b6-e13f-55c47454f646"
      },
      "execution_count": null,
      "outputs": [
        {
          "output_type": "execute_result",
          "data": {
            "text/plain": [
              "   applicant_id  Primary_applicant_age_in_years  Gender  \\\n",
              "0       1469590                              67    male   \n",
              "1       1203873                              22  female   \n",
              "2       1432761                              49    male   \n",
              "3       1207582                              45    male   \n",
              "4       1674436                              53    male   \n",
              "\n",
              "               Marital_status  Number_of_dependents   Housing  \\\n",
              "0                      single                     1       own   \n",
              "1  divorced/separated/married                     1       own   \n",
              "2                      single                     2       own   \n",
              "3                      single                     2  for free   \n",
              "4                      single                     2  for free   \n",
              "\n",
              "   Years_at_current_residence            Employment_status  \\\n",
              "0                           4  skilled employee / official   \n",
              "1                           2  skilled employee / official   \n",
              "2                           3         unskilled - resident   \n",
              "3                           4  skilled employee / official   \n",
              "4                           4  skilled employee / official   \n",
              "\n",
              "  Has_been_employed_for_at_least Has_been_employed_for_at_most  \\\n",
              "0                              7                             0   \n",
              "1                              1                             4   \n",
              "2                              4                             7   \n",
              "3                              4                             7   \n",
              "4                              1                             4   \n",
              "\n",
              "                               Telephone  Foreign_worker  \\\n",
              "0  Registered under the applicant's name               1   \n",
              "1                                    NaN               1   \n",
              "2                                    NaN               1   \n",
              "3                                    NaN               1   \n",
              "4                                    NaN               1   \n",
              "\n",
              "  Savings_account_balance  \\\n",
              "0                     NaN   \n",
              "1                     Low   \n",
              "2                     Low   \n",
              "3                     Low   \n",
              "4                     Low   \n",
              "\n",
              "  Balance_in_existing_bank_account_(lower_limit_of_bucket)  \\\n",
              "0                                                NaN         \n",
              "1                                                  0         \n",
              "2                                                NaN         \n",
              "3                                                NaN         \n",
              "4                                                NaN         \n",
              "\n",
              "  Balance_in_existing_bank_account_(upper_limit_of_bucket)  \n",
              "0                                                  0        \n",
              "1                                              2 lac        \n",
              "2                                                NaN        \n",
              "3                                                  0        \n",
              "4                                                  0        "
            ],
            "text/html": [
              "\n",
              "  <div id=\"df-605814be-6d79-48a9-9952-4922965e1074\">\n",
              "    <div class=\"colab-df-container\">\n",
              "      <div>\n",
              "<style scoped>\n",
              "    .dataframe tbody tr th:only-of-type {\n",
              "        vertical-align: middle;\n",
              "    }\n",
              "\n",
              "    .dataframe tbody tr th {\n",
              "        vertical-align: top;\n",
              "    }\n",
              "\n",
              "    .dataframe thead th {\n",
              "        text-align: right;\n",
              "    }\n",
              "</style>\n",
              "<table border=\"1\" class=\"dataframe\">\n",
              "  <thead>\n",
              "    <tr style=\"text-align: right;\">\n",
              "      <th></th>\n",
              "      <th>applicant_id</th>\n",
              "      <th>Primary_applicant_age_in_years</th>\n",
              "      <th>Gender</th>\n",
              "      <th>Marital_status</th>\n",
              "      <th>Number_of_dependents</th>\n",
              "      <th>Housing</th>\n",
              "      <th>Years_at_current_residence</th>\n",
              "      <th>Employment_status</th>\n",
              "      <th>Has_been_employed_for_at_least</th>\n",
              "      <th>Has_been_employed_for_at_most</th>\n",
              "      <th>Telephone</th>\n",
              "      <th>Foreign_worker</th>\n",
              "      <th>Savings_account_balance</th>\n",
              "      <th>Balance_in_existing_bank_account_(lower_limit_of_bucket)</th>\n",
              "      <th>Balance_in_existing_bank_account_(upper_limit_of_bucket)</th>\n",
              "    </tr>\n",
              "  </thead>\n",
              "  <tbody>\n",
              "    <tr>\n",
              "      <th>0</th>\n",
              "      <td>1469590</td>\n",
              "      <td>67</td>\n",
              "      <td>male</td>\n",
              "      <td>single</td>\n",
              "      <td>1</td>\n",
              "      <td>own</td>\n",
              "      <td>4</td>\n",
              "      <td>skilled employee / official</td>\n",
              "      <td>7</td>\n",
              "      <td>0</td>\n",
              "      <td>Registered under the applicant's name</td>\n",
              "      <td>1</td>\n",
              "      <td>NaN</td>\n",
              "      <td>NaN</td>\n",
              "      <td>0</td>\n",
              "    </tr>\n",
              "    <tr>\n",
              "      <th>1</th>\n",
              "      <td>1203873</td>\n",
              "      <td>22</td>\n",
              "      <td>female</td>\n",
              "      <td>divorced/separated/married</td>\n",
              "      <td>1</td>\n",
              "      <td>own</td>\n",
              "      <td>2</td>\n",
              "      <td>skilled employee / official</td>\n",
              "      <td>1</td>\n",
              "      <td>4</td>\n",
              "      <td>NaN</td>\n",
              "      <td>1</td>\n",
              "      <td>Low</td>\n",
              "      <td>0</td>\n",
              "      <td>2 lac</td>\n",
              "    </tr>\n",
              "    <tr>\n",
              "      <th>2</th>\n",
              "      <td>1432761</td>\n",
              "      <td>49</td>\n",
              "      <td>male</td>\n",
              "      <td>single</td>\n",
              "      <td>2</td>\n",
              "      <td>own</td>\n",
              "      <td>3</td>\n",
              "      <td>unskilled - resident</td>\n",
              "      <td>4</td>\n",
              "      <td>7</td>\n",
              "      <td>NaN</td>\n",
              "      <td>1</td>\n",
              "      <td>Low</td>\n",
              "      <td>NaN</td>\n",
              "      <td>NaN</td>\n",
              "    </tr>\n",
              "    <tr>\n",
              "      <th>3</th>\n",
              "      <td>1207582</td>\n",
              "      <td>45</td>\n",
              "      <td>male</td>\n",
              "      <td>single</td>\n",
              "      <td>2</td>\n",
              "      <td>for free</td>\n",
              "      <td>4</td>\n",
              "      <td>skilled employee / official</td>\n",
              "      <td>4</td>\n",
              "      <td>7</td>\n",
              "      <td>NaN</td>\n",
              "      <td>1</td>\n",
              "      <td>Low</td>\n",
              "      <td>NaN</td>\n",
              "      <td>0</td>\n",
              "    </tr>\n",
              "    <tr>\n",
              "      <th>4</th>\n",
              "      <td>1674436</td>\n",
              "      <td>53</td>\n",
              "      <td>male</td>\n",
              "      <td>single</td>\n",
              "      <td>2</td>\n",
              "      <td>for free</td>\n",
              "      <td>4</td>\n",
              "      <td>skilled employee / official</td>\n",
              "      <td>1</td>\n",
              "      <td>4</td>\n",
              "      <td>NaN</td>\n",
              "      <td>1</td>\n",
              "      <td>Low</td>\n",
              "      <td>NaN</td>\n",
              "      <td>0</td>\n",
              "    </tr>\n",
              "  </tbody>\n",
              "</table>\n",
              "</div>\n",
              "      <button class=\"colab-df-convert\" onclick=\"convertToInteractive('df-605814be-6d79-48a9-9952-4922965e1074')\"\n",
              "              title=\"Convert this dataframe to an interactive table.\"\n",
              "              style=\"display:none;\">\n",
              "        \n",
              "  <svg xmlns=\"http://www.w3.org/2000/svg\" height=\"24px\"viewBox=\"0 0 24 24\"\n",
              "       width=\"24px\">\n",
              "    <path d=\"M0 0h24v24H0V0z\" fill=\"none\"/>\n",
              "    <path d=\"M18.56 5.44l.94 2.06.94-2.06 2.06-.94-2.06-.94-.94-2.06-.94 2.06-2.06.94zm-11 1L8.5 8.5l.94-2.06 2.06-.94-2.06-.94L8.5 2.5l-.94 2.06-2.06.94zm10 10l.94 2.06.94-2.06 2.06-.94-2.06-.94-.94-2.06-.94 2.06-2.06.94z\"/><path d=\"M17.41 7.96l-1.37-1.37c-.4-.4-.92-.59-1.43-.59-.52 0-1.04.2-1.43.59L10.3 9.45l-7.72 7.72c-.78.78-.78 2.05 0 2.83L4 21.41c.39.39.9.59 1.41.59.51 0 1.02-.2 1.41-.59l7.78-7.78 2.81-2.81c.8-.78.8-2.07 0-2.86zM5.41 20L4 18.59l7.72-7.72 1.47 1.35L5.41 20z\"/>\n",
              "  </svg>\n",
              "      </button>\n",
              "      \n",
              "  <style>\n",
              "    .colab-df-container {\n",
              "      display:flex;\n",
              "      flex-wrap:wrap;\n",
              "      gap: 12px;\n",
              "    }\n",
              "\n",
              "    .colab-df-convert {\n",
              "      background-color: #E8F0FE;\n",
              "      border: none;\n",
              "      border-radius: 50%;\n",
              "      cursor: pointer;\n",
              "      display: none;\n",
              "      fill: #1967D2;\n",
              "      height: 32px;\n",
              "      padding: 0 0 0 0;\n",
              "      width: 32px;\n",
              "    }\n",
              "\n",
              "    .colab-df-convert:hover {\n",
              "      background-color: #E2EBFA;\n",
              "      box-shadow: 0px 1px 2px rgba(60, 64, 67, 0.3), 0px 1px 3px 1px rgba(60, 64, 67, 0.15);\n",
              "      fill: #174EA6;\n",
              "    }\n",
              "\n",
              "    [theme=dark] .colab-df-convert {\n",
              "      background-color: #3B4455;\n",
              "      fill: #D2E3FC;\n",
              "    }\n",
              "\n",
              "    [theme=dark] .colab-df-convert:hover {\n",
              "      background-color: #434B5C;\n",
              "      box-shadow: 0px 1px 3px 1px rgba(0, 0, 0, 0.15);\n",
              "      filter: drop-shadow(0px 1px 2px rgba(0, 0, 0, 0.3));\n",
              "      fill: #FFFFFF;\n",
              "    }\n",
              "  </style>\n",
              "\n",
              "      <script>\n",
              "        const buttonEl =\n",
              "          document.querySelector('#df-605814be-6d79-48a9-9952-4922965e1074 button.colab-df-convert');\n",
              "        buttonEl.style.display =\n",
              "          google.colab.kernel.accessAllowed ? 'block' : 'none';\n",
              "\n",
              "        async function convertToInteractive(key) {\n",
              "          const element = document.querySelector('#df-605814be-6d79-48a9-9952-4922965e1074');\n",
              "          const dataTable =\n",
              "            await google.colab.kernel.invokeFunction('convertToInteractive',\n",
              "                                                     [key], {});\n",
              "          if (!dataTable) return;\n",
              "\n",
              "          const docLinkHtml = 'Like what you see? Visit the ' +\n",
              "            '<a target=\"_blank\" href=https://colab.research.google.com/notebooks/data_table.ipynb>data table notebook</a>'\n",
              "            + ' to learn more about interactive tables.';\n",
              "          element.innerHTML = '';\n",
              "          dataTable['output_type'] = 'display_data';\n",
              "          await google.colab.output.renderOutput(dataTable, element);\n",
              "          const docLink = document.createElement('div');\n",
              "          docLink.innerHTML = docLinkHtml;\n",
              "          element.appendChild(docLink);\n",
              "        }\n",
              "      </script>\n",
              "    </div>\n",
              "  </div>\n",
              "  "
            ]
          },
          "metadata": {},
          "execution_count": 10
        }
      ]
    },
    {
      "cell_type": "markdown",
      "source": [
        "Joining the two dataframes"
      ],
      "metadata": {
        "id": "fcLh2zESq7GO"
      }
    },
    {
      "cell_type": "code",
      "source": [
        "combined_df = pd.concat([df1.set_index('applicant_id'),df2.set_index('applicant_id')], axis=1, join='inner')\n",
        "combined_df.columns\n"
      ],
      "metadata": {
        "colab": {
          "base_uri": "https://localhost:8080/"
        },
        "id": "5IAEpPE6oyRK",
        "outputId": "ffecd307-50fa-4cc5-96eb-1bf462354291"
      },
      "execution_count": null,
      "outputs": [
        {
          "output_type": "execute_result",
          "data": {
            "text/plain": [
              "Index(['loan_application_id', 'Months_loan_taken_for', 'Purpose',\n",
              "       'Principal_loan_amount', 'EMI_rate_in_percentage_of_disposable_income',\n",
              "       'Property', 'Has_coapplicant', 'Has_guarantor', 'Other_EMI_plans',\n",
              "       'Number_of_existing_loans_at_this_bank', 'Loan_history',\n",
              "       'high_risk_applicant', 'Primary_applicant_age_in_years', 'Gender',\n",
              "       'Marital_status', 'Number_of_dependents', 'Housing',\n",
              "       'Years_at_current_residence', 'Employment_status',\n",
              "       'Has_been_employed_for_at_least', 'Has_been_employed_for_at_most',\n",
              "       'Telephone', 'Foreign_worker', 'Savings_account_balance',\n",
              "       'Balance_in_existing_bank_account_(lower_limit_of_bucket)',\n",
              "       'Balance_in_existing_bank_account_(upper_limit_of_bucket)'],\n",
              "      dtype='object')"
            ]
          },
          "metadata": {},
          "execution_count": 36
        }
      ]
    },
    {
      "cell_type": "markdown",
      "source": [
        "Dropping Unhelpful columns"
      ],
      "metadata": {
        "id": "oKRrKu4kqzF_"
      }
    },
    {
      "cell_type": "code",
      "source": [
        "combined_df = combined_df.drop(['Telephone'],axis=1)\n",
        "combined_df = combined_df.drop(['loan_application_id'],axis=1)\n",
        "combined_df = combined_df.drop(['Balance_in_existing_bank_account_(lower_limit_of_bucket)'],axis=1) \n",
        "combined_df = combined_df.drop(['Balance_in_existing_bank_account_(upper_limit_of_bucket)'],axis=1)\n",
        "combined_df = combined_df.drop(['Purpose'],axis=1)\n",
        "combined_df = combined_df.drop(['Other_EMI_plans'],axis=1)\n",
        "# combined_df = combined_df.drop(['Foreign_worker'],axis=1)\n",
        "combined_df.isnull().sum()"
      ],
      "metadata": {
        "colab": {
          "base_uri": "https://localhost:8080/"
        },
        "id": "KMmr4u5vo20Q",
        "outputId": "2ae299a4-c3c8-4487-b425-681b43c9cff2"
      },
      "execution_count": null,
      "outputs": [
        {
          "output_type": "execute_result",
          "data": {
            "text/plain": [
              "Months_loan_taken_for                            0\n",
              "Principal_loan_amount                            0\n",
              "EMI_rate_in_percentage_of_disposable_income      0\n",
              "Property                                       154\n",
              "Has_coapplicant                                  0\n",
              "Has_guarantor                                    0\n",
              "Number_of_existing_loans_at_this_bank            0\n",
              "Loan_history                                     0\n",
              "high_risk_applicant                              0\n",
              "Primary_applicant_age_in_years                   0\n",
              "Gender                                           0\n",
              "Marital_status                                   0\n",
              "Number_of_dependents                             0\n",
              "Housing                                          0\n",
              "Years_at_current_residence                       0\n",
              "Employment_status                                0\n",
              "Has_been_employed_for_at_least                   0\n",
              "Has_been_employed_for_at_most                    0\n",
              "Foreign_worker                                   0\n",
              "Savings_account_balance                        183\n",
              "dtype: int64"
            ]
          },
          "metadata": {},
          "execution_count": 37
        }
      ]
    },
    {
      "cell_type": "markdown",
      "source": [
        "Handling Null Values"
      ],
      "metadata": {
        "id": "KqCwIqElroZu"
      }
    },
    {
      "cell_type": "code",
      "source": [
        "combined_df[\"Property\"].fillna(\"No property\", inplace = True)\n",
        "combined_df[\"Savings_account_balance\"].fillna(\"No Balance\", inplace=True)\n",
        "# combined_df['Other_EMI_plans'].fillna('Other_EMI_plans', inplace=True)\n",
        "combined_df.isnull().sum()"
      ],
      "metadata": {
        "colab": {
          "base_uri": "https://localhost:8080/"
        },
        "id": "G53U-N2-o6iI",
        "outputId": "3fe257cf-1270-4c8c-cf33-c7b96a7fac11"
      },
      "execution_count": null,
      "outputs": [
        {
          "output_type": "execute_result",
          "data": {
            "text/plain": [
              "Months_loan_taken_for                          0\n",
              "Principal_loan_amount                          0\n",
              "EMI_rate_in_percentage_of_disposable_income    0\n",
              "Property                                       0\n",
              "Has_coapplicant                                0\n",
              "Has_guarantor                                  0\n",
              "Number_of_existing_loans_at_this_bank          0\n",
              "Loan_history                                   0\n",
              "high_risk_applicant                            0\n",
              "Primary_applicant_age_in_years                 0\n",
              "Gender                                         0\n",
              "Marital_status                                 0\n",
              "Number_of_dependents                           0\n",
              "Housing                                        0\n",
              "Years_at_current_residence                     0\n",
              "Employment_status                              0\n",
              "Has_been_employed_for_at_least                 0\n",
              "Has_been_employed_for_at_most                  0\n",
              "Foreign_worker                                 0\n",
              "Savings_account_balance                        0\n",
              "dtype: int64"
            ]
          },
          "metadata": {},
          "execution_count": 38
        }
      ]
    },
    {
      "cell_type": "code",
      "source": [
        "y = combined_df['high_risk_applicant']\n",
        "X = combined_df.drop('high_risk_applicant', axis=1)\n",
        "combined_df.columns.get_loc(\"Housing\")"
      ],
      "metadata": {
        "colab": {
          "base_uri": "https://localhost:8080/"
        },
        "id": "yHkSTN_Oo9Yg",
        "outputId": "70c43b00-52d3-45de-b4ca-bce0350e6bcf"
      },
      "execution_count": null,
      "outputs": [
        {
          "output_type": "execute_result",
          "data": {
            "text/plain": [
              "13"
            ]
          },
          "metadata": {},
          "execution_count": 39
        }
      ]
    },
    {
      "cell_type": "markdown",
      "source": [
        "One Hot Encoding Categorical variables"
      ],
      "metadata": {
        "id": "3ZaShz25r6Ol"
      }
    },
    {
      "cell_type": "code",
      "source": [
        "from sklearn.compose import ColumnTransformer\n",
        "from sklearn.compose import make_column_transformer\n",
        "from sklearn.preprocessing import OneHotEncoder\n",
        "transformer = make_column_transformer((OneHotEncoder(), ['Housing','Marital_status' ,'Property' , 'Loan_history','Gender','Employment_status','Savings_account_balance']),remainder='passthrough')\n",
        "\n",
        "transformed = transformer.fit_transform(X)\n",
        "transformed_df = pd.DataFrame(transformed, columns=transformer.get_feature_names())\n",
        "X = np.array(transformed_df)\n",
        "X"
      ],
      "metadata": {
        "id": "nRCwmdzOpDWZ",
        "colab": {
          "base_uri": "https://localhost:8080/"
        },
        "outputId": "9d46d5db-eff5-455f-85bc-e8f1fd5929fa"
      },
      "execution_count": null,
      "outputs": [
        {
          "output_type": "stream",
          "name": "stderr",
          "text": [
            "/usr/local/lib/python3.7/dist-packages/sklearn/utils/deprecation.py:87: FutureWarning: Function get_feature_names is deprecated; get_feature_names is deprecated in 1.0 and will be removed in 1.2. Please use get_feature_names_out instead.\n",
            "  warnings.warn(msg, category=FutureWarning)\n"
          ]
        }
      ]
    },
    {
      "cell_type": "code",
      "source": [
        "from sklearn.model_selection import train_test_split\n",
        "X_train, X_test, y_train, y_test = train_test_split(X, y,  test_size=.2, random_state=123)"
      ],
      "metadata": {
        "id": "rOgnTjd3pG35"
      },
      "execution_count": null,
      "outputs": []
    },
    {
      "cell_type": "code",
      "source": [
        "print(X_train)"
      ],
      "metadata": {
        "colab": {
          "base_uri": "https://localhost:8080/"
        },
        "id": "5nBOaTympJ8A",
        "outputId": "a937d336-d592-4f09-84a7-8cc4bbb18aa9"
      },
      "execution_count": null,
      "outputs": [
        {
          "output_type": "stream",
          "name": "stdout",
          "text": [
            "[[0.0 0.0 1.0 ... 4 7 1]\n",
            " [1.0 0.0 0.0 ... 1 4 1]\n",
            " [0.0 1.0 0.0 ... 7 0 1]\n",
            " ...\n",
            " [0.0 0.0 1.0 ... 4 7 1]\n",
            " [0.0 1.0 0.0 ... 4 7 1]\n",
            " [0.0 1.0 0.0 ... 4 7 1]]\n"
          ]
        }
      ]
    },
    {
      "cell_type": "code",
      "source": [
        "from sklearn.preprocessing import StandardScaler\n",
        "sc = StandardScaler()\n",
        "X_train = sc.fit_transform(X_train)\n",
        "X_test = sc.transform(X_test)"
      ],
      "metadata": {
        "id": "rhCtbi4OpM95"
      },
      "execution_count": null,
      "outputs": []
    },
    {
      "cell_type": "markdown",
      "source": [
        "Artifical Neural Network Model"
      ],
      "metadata": {
        "id": "3ZayPGQ8pyQ5"
      }
    },
    {
      "cell_type": "code",
      "source": [
        "import tensorflow as tf\n",
        "ann = tf.keras.models.Sequential()"
      ],
      "metadata": {
        "id": "z2sP1fVwpP9h"
      },
      "execution_count": null,
      "outputs": []
    },
    {
      "cell_type": "code",
      "source": [
        "\n",
        "ann.add(tf.keras.layers.Dense(units=6, activation='relu'))\n",
        "ann.add(tf.keras.layers.Dense(units=6, activation='relu'))"
      ],
      "metadata": {
        "id": "SW8ORK_EpTIw"
      },
      "execution_count": null,
      "outputs": []
    },
    {
      "cell_type": "code",
      "source": [
        "ann.add(tf.keras.layers.Dense(units=1, activation='sigmoid'))"
      ],
      "metadata": {
        "id": "yYjiMY2xpblw"
      },
      "execution_count": null,
      "outputs": []
    },
    {
      "cell_type": "code",
      "source": [
        "ann.compile(optimizer = 'adam', loss = 'binary_crossentropy', metrics = ['accuracy'])"
      ],
      "metadata": {
        "id": "_IW4IACGpe1h"
      },
      "execution_count": null,
      "outputs": []
    },
    {
      "cell_type": "code",
      "source": [
        "ann.fit(X_train, y_train, batch_size = 32, epochs = 100)"
      ],
      "metadata": {
        "colab": {
          "base_uri": "https://localhost:8080/"
        },
        "id": "bi3G1lT7phV7",
        "outputId": "e6f62f17-6b2e-4032-ba77-3c0899c014b3"
      },
      "execution_count": null,
      "outputs": [
        {
          "output_type": "stream",
          "name": "stdout",
          "text": [
            "Epoch 1/100\n",
            "25/25 [==============================] - 1s 2ms/step - loss: 0.7197 - accuracy: 0.4775\n",
            "Epoch 2/100\n",
            "25/25 [==============================] - 0s 2ms/step - loss: 0.6855 - accuracy: 0.5825\n",
            "Epoch 3/100\n",
            "25/25 [==============================] - 0s 2ms/step - loss: 0.6631 - accuracy: 0.6325\n",
            "Epoch 4/100\n",
            "25/25 [==============================] - 0s 2ms/step - loss: 0.6472 - accuracy: 0.6725\n",
            "Epoch 5/100\n",
            "25/25 [==============================] - 0s 3ms/step - loss: 0.6332 - accuracy: 0.7000\n",
            "Epoch 6/100\n",
            "25/25 [==============================] - 0s 3ms/step - loss: 0.6207 - accuracy: 0.7125\n",
            "Epoch 7/100\n",
            "25/25 [==============================] - 0s 3ms/step - loss: 0.6088 - accuracy: 0.7250\n",
            "Epoch 8/100\n",
            "25/25 [==============================] - 0s 3ms/step - loss: 0.5979 - accuracy: 0.7300\n",
            "Epoch 9/100\n",
            "25/25 [==============================] - 0s 3ms/step - loss: 0.5885 - accuracy: 0.7312\n",
            "Epoch 10/100\n",
            "25/25 [==============================] - 0s 3ms/step - loss: 0.5792 - accuracy: 0.7312\n",
            "Epoch 11/100\n",
            "25/25 [==============================] - 0s 3ms/step - loss: 0.5708 - accuracy: 0.7350\n",
            "Epoch 12/100\n",
            "25/25 [==============================] - 0s 3ms/step - loss: 0.5630 - accuracy: 0.7387\n",
            "Epoch 13/100\n",
            "25/25 [==============================] - 0s 3ms/step - loss: 0.5552 - accuracy: 0.7425\n",
            "Epoch 14/100\n",
            "25/25 [==============================] - 0s 3ms/step - loss: 0.5476 - accuracy: 0.7538\n",
            "Epoch 15/100\n",
            "25/25 [==============================] - 0s 2ms/step - loss: 0.5406 - accuracy: 0.7500\n",
            "Epoch 16/100\n",
            "25/25 [==============================] - 0s 2ms/step - loss: 0.5338 - accuracy: 0.7588\n",
            "Epoch 17/100\n",
            "25/25 [==============================] - 0s 2ms/step - loss: 0.5271 - accuracy: 0.7625\n",
            "Epoch 18/100\n",
            "25/25 [==============================] - 0s 2ms/step - loss: 0.5208 - accuracy: 0.7600\n",
            "Epoch 19/100\n",
            "25/25 [==============================] - 0s 3ms/step - loss: 0.5156 - accuracy: 0.7613\n",
            "Epoch 20/100\n",
            "25/25 [==============================] - 0s 2ms/step - loss: 0.5102 - accuracy: 0.7663\n",
            "Epoch 21/100\n",
            "25/25 [==============================] - 0s 3ms/step - loss: 0.5052 - accuracy: 0.7638\n",
            "Epoch 22/100\n",
            "25/25 [==============================] - 0s 2ms/step - loss: 0.5010 - accuracy: 0.7675\n",
            "Epoch 23/100\n",
            "25/25 [==============================] - 0s 2ms/step - loss: 0.4970 - accuracy: 0.7688\n",
            "Epoch 24/100\n",
            "25/25 [==============================] - 0s 2ms/step - loss: 0.4930 - accuracy: 0.7700\n",
            "Epoch 25/100\n",
            "25/25 [==============================] - 0s 3ms/step - loss: 0.4889 - accuracy: 0.7738\n",
            "Epoch 26/100\n",
            "25/25 [==============================] - 0s 3ms/step - loss: 0.4857 - accuracy: 0.7750\n",
            "Epoch 27/100\n",
            "25/25 [==============================] - 0s 3ms/step - loss: 0.4824 - accuracy: 0.7763\n",
            "Epoch 28/100\n",
            "25/25 [==============================] - 0s 2ms/step - loss: 0.4795 - accuracy: 0.7800\n",
            "Epoch 29/100\n",
            "25/25 [==============================] - 0s 3ms/step - loss: 0.4777 - accuracy: 0.7850\n",
            "Epoch 30/100\n",
            "25/25 [==============================] - 0s 3ms/step - loss: 0.4754 - accuracy: 0.7812\n",
            "Epoch 31/100\n",
            "25/25 [==============================] - 0s 2ms/step - loss: 0.4740 - accuracy: 0.7800\n",
            "Epoch 32/100\n",
            "25/25 [==============================] - 0s 3ms/step - loss: 0.4721 - accuracy: 0.7862\n",
            "Epoch 33/100\n",
            "25/25 [==============================] - 0s 2ms/step - loss: 0.4707 - accuracy: 0.7875\n",
            "Epoch 34/100\n",
            "25/25 [==============================] - 0s 2ms/step - loss: 0.4683 - accuracy: 0.7900\n",
            "Epoch 35/100\n",
            "25/25 [==============================] - 0s 2ms/step - loss: 0.4671 - accuracy: 0.7887\n",
            "Epoch 36/100\n",
            "25/25 [==============================] - 0s 3ms/step - loss: 0.4656 - accuracy: 0.7912\n",
            "Epoch 37/100\n",
            "25/25 [==============================] - 0s 3ms/step - loss: 0.4648 - accuracy: 0.7912\n",
            "Epoch 38/100\n",
            "25/25 [==============================] - 0s 2ms/step - loss: 0.4630 - accuracy: 0.7887\n",
            "Epoch 39/100\n",
            "25/25 [==============================] - 0s 3ms/step - loss: 0.4620 - accuracy: 0.7925\n",
            "Epoch 40/100\n",
            "25/25 [==============================] - 0s 3ms/step - loss: 0.4613 - accuracy: 0.7912\n",
            "Epoch 41/100\n",
            "25/25 [==============================] - 0s 2ms/step - loss: 0.4586 - accuracy: 0.7925\n",
            "Epoch 42/100\n",
            "25/25 [==============================] - 0s 2ms/step - loss: 0.4580 - accuracy: 0.7912\n",
            "Epoch 43/100\n",
            "25/25 [==============================] - 0s 2ms/step - loss: 0.4574 - accuracy: 0.7950\n",
            "Epoch 44/100\n",
            "25/25 [==============================] - 0s 2ms/step - loss: 0.4558 - accuracy: 0.7950\n",
            "Epoch 45/100\n",
            "25/25 [==============================] - 0s 2ms/step - loss: 0.4540 - accuracy: 0.7937\n",
            "Epoch 46/100\n",
            "25/25 [==============================] - 0s 2ms/step - loss: 0.4533 - accuracy: 0.7950\n",
            "Epoch 47/100\n",
            "25/25 [==============================] - 0s 2ms/step - loss: 0.4523 - accuracy: 0.7975\n",
            "Epoch 48/100\n",
            "25/25 [==============================] - 0s 2ms/step - loss: 0.4514 - accuracy: 0.7975\n",
            "Epoch 49/100\n",
            "25/25 [==============================] - 0s 2ms/step - loss: 0.4502 - accuracy: 0.7950\n",
            "Epoch 50/100\n",
            "25/25 [==============================] - 0s 2ms/step - loss: 0.4486 - accuracy: 0.8000\n",
            "Epoch 51/100\n",
            "25/25 [==============================] - 0s 3ms/step - loss: 0.4472 - accuracy: 0.8012\n",
            "Epoch 52/100\n",
            "25/25 [==============================] - 0s 3ms/step - loss: 0.4462 - accuracy: 0.8012\n",
            "Epoch 53/100\n",
            "25/25 [==============================] - 0s 2ms/step - loss: 0.4447 - accuracy: 0.8025\n",
            "Epoch 54/100\n",
            "25/25 [==============================] - 0s 2ms/step - loss: 0.4447 - accuracy: 0.7975\n",
            "Epoch 55/100\n",
            "25/25 [==============================] - 0s 3ms/step - loss: 0.4424 - accuracy: 0.8012\n",
            "Epoch 56/100\n",
            "25/25 [==============================] - 0s 2ms/step - loss: 0.4416 - accuracy: 0.8000\n",
            "Epoch 57/100\n",
            "25/25 [==============================] - 0s 2ms/step - loss: 0.4406 - accuracy: 0.7987\n",
            "Epoch 58/100\n",
            "25/25 [==============================] - 0s 2ms/step - loss: 0.4398 - accuracy: 0.8025\n",
            "Epoch 59/100\n",
            "25/25 [==============================] - 0s 2ms/step - loss: 0.4386 - accuracy: 0.8025\n",
            "Epoch 60/100\n",
            "25/25 [==============================] - 0s 2ms/step - loss: 0.4371 - accuracy: 0.8025\n",
            "Epoch 61/100\n",
            "25/25 [==============================] - 0s 3ms/step - loss: 0.4364 - accuracy: 0.8025\n",
            "Epoch 62/100\n",
            "25/25 [==============================] - 0s 2ms/step - loss: 0.4352 - accuracy: 0.7987\n",
            "Epoch 63/100\n",
            "25/25 [==============================] - 0s 2ms/step - loss: 0.4350 - accuracy: 0.8012\n",
            "Epoch 64/100\n",
            "25/25 [==============================] - 0s 2ms/step - loss: 0.4333 - accuracy: 0.8000\n",
            "Epoch 65/100\n",
            "25/25 [==============================] - 0s 2ms/step - loss: 0.4324 - accuracy: 0.8000\n",
            "Epoch 66/100\n",
            "25/25 [==============================] - 0s 2ms/step - loss: 0.4317 - accuracy: 0.8000\n",
            "Epoch 67/100\n",
            "25/25 [==============================] - 0s 2ms/step - loss: 0.4304 - accuracy: 0.8037\n",
            "Epoch 68/100\n",
            "25/25 [==============================] - 0s 2ms/step - loss: 0.4297 - accuracy: 0.8025\n",
            "Epoch 69/100\n",
            "25/25 [==============================] - 0s 2ms/step - loss: 0.4289 - accuracy: 0.8037\n",
            "Epoch 70/100\n",
            "25/25 [==============================] - 0s 3ms/step - loss: 0.4283 - accuracy: 0.8075\n",
            "Epoch 71/100\n",
            "25/25 [==============================] - 0s 2ms/step - loss: 0.4274 - accuracy: 0.8062\n",
            "Epoch 72/100\n",
            "25/25 [==============================] - 0s 2ms/step - loss: 0.4261 - accuracy: 0.8050\n",
            "Epoch 73/100\n",
            "25/25 [==============================] - 0s 2ms/step - loss: 0.4254 - accuracy: 0.8025\n",
            "Epoch 74/100\n",
            "25/25 [==============================] - 0s 2ms/step - loss: 0.4250 - accuracy: 0.8025\n",
            "Epoch 75/100\n",
            "25/25 [==============================] - 0s 2ms/step - loss: 0.4241 - accuracy: 0.8037\n",
            "Epoch 76/100\n",
            "25/25 [==============================] - 0s 2ms/step - loss: 0.4228 - accuracy: 0.8037\n",
            "Epoch 77/100\n",
            "25/25 [==============================] - 0s 2ms/step - loss: 0.4237 - accuracy: 0.8037\n",
            "Epoch 78/100\n",
            "25/25 [==============================] - 0s 3ms/step - loss: 0.4227 - accuracy: 0.8037\n",
            "Epoch 79/100\n",
            "25/25 [==============================] - 0s 3ms/step - loss: 0.4205 - accuracy: 0.8062\n",
            "Epoch 80/100\n",
            "25/25 [==============================] - 0s 3ms/step - loss: 0.4199 - accuracy: 0.8037\n",
            "Epoch 81/100\n",
            "25/25 [==============================] - 0s 2ms/step - loss: 0.4190 - accuracy: 0.8062\n",
            "Epoch 82/100\n",
            "25/25 [==============================] - 0s 3ms/step - loss: 0.4186 - accuracy: 0.8075\n",
            "Epoch 83/100\n",
            "25/25 [==============================] - 0s 3ms/step - loss: 0.4178 - accuracy: 0.8050\n",
            "Epoch 84/100\n",
            "25/25 [==============================] - 0s 2ms/step - loss: 0.4174 - accuracy: 0.8075\n",
            "Epoch 85/100\n",
            "25/25 [==============================] - 0s 3ms/step - loss: 0.4165 - accuracy: 0.8087\n",
            "Epoch 86/100\n",
            "25/25 [==============================] - 0s 2ms/step - loss: 0.4156 - accuracy: 0.8087\n",
            "Epoch 87/100\n",
            "25/25 [==============================] - 0s 3ms/step - loss: 0.4148 - accuracy: 0.8075\n",
            "Epoch 88/100\n",
            "25/25 [==============================] - 0s 3ms/step - loss: 0.4141 - accuracy: 0.8112\n",
            "Epoch 89/100\n",
            "25/25 [==============================] - 0s 3ms/step - loss: 0.4142 - accuracy: 0.8112\n",
            "Epoch 90/100\n",
            "25/25 [==============================] - 0s 3ms/step - loss: 0.4128 - accuracy: 0.8112\n",
            "Epoch 91/100\n",
            "25/25 [==============================] - 0s 2ms/step - loss: 0.4126 - accuracy: 0.8112\n",
            "Epoch 92/100\n",
            "25/25 [==============================] - 0s 2ms/step - loss: 0.4119 - accuracy: 0.8138\n",
            "Epoch 93/100\n",
            "25/25 [==============================] - 0s 3ms/step - loss: 0.4115 - accuracy: 0.8125\n",
            "Epoch 94/100\n",
            "25/25 [==============================] - 0s 3ms/step - loss: 0.4104 - accuracy: 0.8175\n",
            "Epoch 95/100\n",
            "25/25 [==============================] - 0s 3ms/step - loss: 0.4102 - accuracy: 0.8163\n",
            "Epoch 96/100\n",
            "25/25 [==============================] - 0s 3ms/step - loss: 0.4090 - accuracy: 0.8175\n",
            "Epoch 97/100\n",
            "25/25 [==============================] - 0s 3ms/step - loss: 0.4087 - accuracy: 0.8163\n",
            "Epoch 98/100\n",
            "25/25 [==============================] - 0s 3ms/step - loss: 0.4079 - accuracy: 0.8200\n",
            "Epoch 99/100\n",
            "25/25 [==============================] - 0s 3ms/step - loss: 0.4071 - accuracy: 0.8188\n",
            "Epoch 100/100\n",
            "25/25 [==============================] - 0s 3ms/step - loss: 0.4072 - accuracy: 0.8188\n"
          ]
        },
        {
          "output_type": "execute_result",
          "data": {
            "text/plain": [
              "<keras.callbacks.History at 0x7f9e744f8310>"
            ]
          },
          "metadata": {},
          "execution_count": 49
        }
      ]
    },
    {
      "cell_type": "code",
      "source": [
        "y_pred = ann.predict(X_test)\n",
        "y_pred = (y_pred > 0.3)\n",
        "# print(np.concatenate((y_pred.reshape(len(y_pred),1), y_test.reshape(len(y_test),1)),1))"
      ],
      "metadata": {
        "colab": {
          "base_uri": "https://localhost:8080/"
        },
        "id": "tzNmKiHQpmsR",
        "outputId": "d6c697c2-be36-44dc-cd4a-0712d3ea269d"
      },
      "execution_count": null,
      "outputs": [
        {
          "output_type": "stream",
          "name": "stdout",
          "text": [
            "7/7 [==============================] - 0s 4ms/step\n"
          ]
        }
      ]
    },
    {
      "cell_type": "code",
      "source": [
        "from sklearn.metrics import confusion_matrix, accuracy_score\n",
        "cm = confusion_matrix(y_test, y_pred)\n",
        "print(cm)\n",
        "accuracy_score(y_test, y_pred)"
      ],
      "metadata": {
        "colab": {
          "base_uri": "https://localhost:8080/"
        },
        "id": "BDJ0bIsXpvXB",
        "outputId": "3ed8423f-1e90-45b1-a982-3d9f1df85d2e"
      },
      "execution_count": null,
      "outputs": [
        {
          "output_type": "stream",
          "name": "stdout",
          "text": [
            "[[104  35]\n",
            " [ 25  36]]\n"
          ]
        },
        {
          "output_type": "execute_result",
          "data": {
            "text/plain": [
              "0.7"
            ]
          },
          "metadata": {},
          "execution_count": 59
        }
      ]
    },
    {
      "cell_type": "markdown",
      "source": [
        "Naive Bayes Model"
      ],
      "metadata": {
        "id": "t4ZXyzy1pj8y"
      }
    },
    {
      "cell_type": "code",
      "source": [
        "from sklearn.naive_bayes import GaussianNB\n",
        "classifier = GaussianNB()\n",
        "classifier.fit(X_train, y_train)\n",
        "y_pred = classifier.predict(X_test)"
      ],
      "metadata": {
        "id": "64QhJVwjp_sK"
      },
      "execution_count": null,
      "outputs": []
    },
    {
      "cell_type": "code",
      "source": [
        "from sklearn.metrics import confusion_matrix, accuracy_score\n",
        "cm = confusion_matrix(y_test, y_pred)\n",
        "print(cm)\n",
        "accuracy_score(y_test, y_pred)"
      ],
      "metadata": {
        "colab": {
          "base_uri": "https://localhost:8080/"
        },
        "id": "KJBTzgX_6iK2",
        "outputId": "447f1284-9d7d-45f9-b03b-a332791b775f"
      },
      "execution_count": null,
      "outputs": [
        {
          "output_type": "stream",
          "name": "stdout",
          "text": [
            "[[107  32]\n",
            " [ 24  37]]\n"
          ]
        },
        {
          "output_type": "execute_result",
          "data": {
            "text/plain": [
              "0.72"
            ]
          },
          "metadata": {},
          "execution_count": 53
        }
      ]
    },
    {
      "cell_type": "markdown",
      "source": [
        "Kernel SVC Model"
      ],
      "metadata": {
        "id": "j9bmi8ZDpqBz"
      }
    },
    {
      "cell_type": "code",
      "source": [
        "from sklearn.svm import SVC\n",
        "classifier = SVC(kernel = 'rbf', random_state = 0)\n",
        "classifier.fit(X_train, y_train)\n",
        "y_pred = classifier.predict(X_test)"
      ],
      "metadata": {
        "id": "329vkafs6lyP"
      },
      "execution_count": null,
      "outputs": []
    },
    {
      "cell_type": "code",
      "source": [
        "from sklearn.metrics import confusion_matrix, accuracy_score\n",
        "cm = confusion_matrix(y_test, y_pred)\n",
        "print(cm)\n",
        "accuracy_score(y_test, y_pred)"
      ],
      "metadata": {
        "colab": {
          "base_uri": "https://localhost:8080/"
        },
        "id": "MSdvIqMh65En",
        "outputId": "f3e999a4-5d0e-49f2-8678-fd7eea3b9029"
      },
      "execution_count": null,
      "outputs": [
        {
          "output_type": "stream",
          "name": "stdout",
          "text": [
            "[[133   6]\n",
            " [ 48  13]]\n"
          ]
        },
        {
          "output_type": "execute_result",
          "data": {
            "text/plain": [
              "0.73"
            ]
          },
          "metadata": {},
          "execution_count": 55
        }
      ]
    },
    {
      "cell_type": "code",
      "source": [],
      "metadata": {
        "id": "dM8HZnYF66vI"
      },
      "execution_count": null,
      "outputs": []
    }
  ]
}